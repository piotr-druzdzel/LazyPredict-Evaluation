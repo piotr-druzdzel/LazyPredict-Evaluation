{
 "cells": [
  {
   "cell_type": "code",
   "execution_count": 2,
   "id": "506f9582",
   "metadata": {},
   "outputs": [],
   "source": [
    "# imports\n",
    "import lazypredict\n",
    "import numpy as np\n",
    "import pandas as pd\n",
    "from sklearn.model_selection import train_test_split\n",
    "from lazypredict.Supervised import LazyClassifier, LazyRegressor"
   ]
  },
  {
   "cell_type": "code",
   "execution_count": 8,
   "id": "4cde6d6b",
   "metadata": {},
   "outputs": [],
   "source": [
    "# data\n",
    "df = pd.read_csv(\"data/Classification/drug-data.csv\")"
   ]
  },
  {
   "cell_type": "code",
   "execution_count": 13,
   "id": "488063f8",
   "metadata": {},
   "outputs": [
    {
     "name": "stdout",
     "output_type": "stream",
     "text": [
      "<class 'pandas.core.frame.DataFrame'>\n",
      "RangeIndex: 200 entries, 0 to 199\n",
      "Data columns (total 6 columns):\n",
      " #   Column       Non-Null Count  Dtype  \n",
      "---  ------       --------------  -----  \n",
      " 0   Age          200 non-null    int64  \n",
      " 1   Sex          200 non-null    object \n",
      " 2   BP           200 non-null    object \n",
      " 3   Cholesterol  200 non-null    object \n",
      " 4   Na_to_K      200 non-null    float64\n",
      " 5   Drug         200 non-null    object \n",
      "dtypes: float64(1), int64(1), object(4)\n",
      "memory usage: 9.5+ KB\n"
     ]
    }
   ],
   "source": [
    "# basic information\n",
    "df.info()"
   ]
  },
  {
   "cell_type": "code",
   "execution_count": 12,
   "id": "903a2e00",
   "metadata": {},
   "outputs": [
    {
     "data": {
      "text/plain": [
       "False"
      ]
     },
     "execution_count": 12,
     "metadata": {},
     "output_type": "execute_result"
    }
   ],
   "source": [
    "# check for any Null values\n",
    "df.isnull().values.any()"
   ]
  },
  {
   "cell_type": "code",
   "execution_count": 14,
   "id": "962d42f5",
   "metadata": {},
   "outputs": [],
   "source": [
    "# Creating our target variable\n",
    "target = 'Drug'\n",
    "\n",
    "y = df[target]\n",
    "X = df.drop(columns=target)\n",
    "                     \n",
    "# Splitting our data into a train and test set\n",
    "X_train, X_test, y_train, y_test = train_test_split(X, y, test_size=0.2, random_state=42)"
   ]
  },
  {
   "cell_type": "code",
   "execution_count": 18,
   "id": "6db2738f",
   "metadata": {},
   "outputs": [
    {
     "name": "stderr",
     "output_type": "stream",
     "text": [
      "100%|██████████| 29/29 [00:01<00:00, 15.08it/s]"
     ]
    },
    {
     "name": "stdout",
     "output_type": "stream",
     "text": [
      "                               Accuracy  Balanced Accuracy ROC AUC  F1 Score  \\\n",
      "Model                                                                          \n",
      "LGBMClassifier                     1.00               1.00    None      1.00   \n",
      "BaggingClassifier                  1.00               1.00    None      1.00   \n",
      "SVC                                1.00               1.00    None      1.00   \n",
      "RandomForestClassifier             1.00               1.00    None      1.00   \n",
      "DecisionTreeClassifier             1.00               1.00    None      1.00   \n",
      "ExtraTreesClassifier               1.00               1.00    None      1.00   \n",
      "LogisticRegression                 0.97               0.99    None      0.98   \n",
      "LinearSVC                          0.97               0.99    None      0.98   \n",
      "LinearDiscriminantAnalysis         0.97               0.99    None      0.98   \n",
      "PassiveAggressiveClassifier        0.97               0.98    None      0.98   \n",
      "CalibratedClassifierCV             0.97               0.96    None      0.97   \n",
      "BernoulliNB                        0.95               0.95    None      0.95   \n",
      "LabelPropagation                   0.95               0.95    None      0.95   \n",
      "LabelSpreading                     0.95               0.95    None      0.95   \n",
      "Perceptron                         0.95               0.94    None      0.95   \n",
      "NearestCentroid                    0.88               0.92    None      0.88   \n",
      "GaussianNB                         0.82               0.91    None      0.81   \n",
      "SGDClassifier                      0.93               0.89    None      0.93   \n",
      "RidgeClassifier                    0.93               0.88    None      0.91   \n",
      "RidgeClassifierCV                  0.93               0.88    None      0.91   \n",
      "KNeighborsClassifier               0.82               0.82    None      0.82   \n",
      "ExtraTreeClassifier                0.75               0.73    None      0.75   \n",
      "AdaBoostClassifier                 0.80               0.60    None      0.72   \n",
      "DummyClassifier                    0.38               0.20    None      0.20   \n",
      "QuadraticDiscriminantAnalysis      0.12               0.20    None      0.03   \n",
      "\n",
      "                               Time Taken  \n",
      "Model                                      \n",
      "LGBMClassifier                       1.48  \n",
      "BaggingClassifier                    0.02  \n",
      "SVC                                  0.01  \n",
      "RandomForestClassifier               0.08  \n",
      "DecisionTreeClassifier               0.01  \n",
      "ExtraTreesClassifier                 0.06  \n",
      "LogisticRegression                   0.01  \n",
      "LinearSVC                            0.01  \n",
      "LinearDiscriminantAnalysis           0.01  \n",
      "PassiveAggressiveClassifier          0.01  \n",
      "CalibratedClassifierCV               0.03  \n",
      "BernoulliNB                          0.01  \n",
      "LabelPropagation                     0.01  \n",
      "LabelSpreading                       0.01  \n",
      "Perceptron                           0.01  \n",
      "NearestCentroid                      0.01  \n",
      "GaussianNB                           0.01  \n",
      "SGDClassifier                        0.01  \n",
      "RidgeClassifier                      0.01  \n",
      "RidgeClassifierCV                    0.01  \n",
      "KNeighborsClassifier                 0.01  \n",
      "ExtraTreeClassifier                  0.01  \n",
      "AdaBoostClassifier                   0.05  \n",
      "DummyClassifier                      0.01  \n",
      "QuadraticDiscriminantAnalysis        0.01  \n"
     ]
    },
    {
     "name": "stderr",
     "output_type": "stream",
     "text": [
      "\n"
     ]
    }
   ],
   "source": [
    "classifiers = LazyClassifier(ignore_warnings=True, custom_metric=None)\n",
    "models,predictions = classifiers.fit(X_train, X_test, y_train, y_test)\n",
    "\n",
    "print(models)"
   ]
  },
  {
   "cell_type": "code",
   "execution_count": null,
   "id": "b7a226b2",
   "metadata": {},
   "outputs": [],
   "source": []
  }
 ],
 "metadata": {
  "kernelspec": {
   "display_name": "base",
   "language": "python",
   "name": "python3"
  },
  "language_info": {
   "codemirror_mode": {
    "name": "ipython",
    "version": 3
   },
   "file_extension": ".py",
   "mimetype": "text/x-python",
   "name": "python",
   "nbconvert_exporter": "python",
   "pygments_lexer": "ipython3",
   "version": "3.9.15"
  },
  "vscode": {
   "interpreter": {
    "hash": "f64a576300df8b43e6a0c84af54fe07a77cafd9b27847fa416951723aa59ff62"
   }
  }
 },
 "nbformat": 4,
 "nbformat_minor": 5
}
